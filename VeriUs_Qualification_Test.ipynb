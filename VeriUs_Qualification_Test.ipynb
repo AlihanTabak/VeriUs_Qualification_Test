{
 "cells": [
  {
   "cell_type": "code",
   "execution_count": 3,
   "metadata": {},
   "outputs": [],
   "source": [
    "import pandas as pd\n",
    "import numpy as np\n",
    "import matplotlib.pyplot as plt\n",
    "import seaborn as sns\n",
    "\n",
    "import warnings\n",
    "warnings.filterwarnings('ignore')"
   ]
  },
  {
   "cell_type": "code",
   "execution_count": 4,
   "metadata": {},
   "outputs": [],
   "source": [
    "data = pd.read_csv('C:/Users/Alihan/Desktop/VeriUs/turkish_cyberbullying.csv')"
   ]
  },
  {
   "cell_type": "code",
   "execution_count": 5,
   "metadata": {},
   "outputs": [
    {
     "data": {
      "text/html": [
       "<div>\n",
       "<style scoped>\n",
       "    .dataframe tbody tr th:only-of-type {\n",
       "        vertical-align: middle;\n",
       "    }\n",
       "\n",
       "    .dataframe tbody tr th {\n",
       "        vertical-align: top;\n",
       "    }\n",
       "\n",
       "    .dataframe thead th {\n",
       "        text-align: right;\n",
       "    }\n",
       "</style>\n",
       "<table border=\"1\" class=\"dataframe\">\n",
       "  <thead>\n",
       "    <tr style=\"text-align: right;\">\n",
       "      <th></th>\n",
       "      <th>message</th>\n",
       "      <th>cyberbullying</th>\n",
       "    </tr>\n",
       "  </thead>\n",
       "  <tbody>\n",
       "    <tr>\n",
       "      <th>0</th>\n",
       "      <td>rabbim kalan ömrünü geçen ömründen hayırlı eyl...</td>\n",
       "      <td>0</td>\n",
       "    </tr>\n",
       "    <tr>\n",
       "      <th>1</th>\n",
       "      <td>bir ateist olarak bu resmi gördükçe gözyaşları...</td>\n",
       "      <td>0</td>\n",
       "    </tr>\n",
       "    <tr>\n",
       "      <th>2</th>\n",
       "      <td>oo süpersin azıcık bize de bulaşsa</td>\n",
       "      <td>0</td>\n",
       "    </tr>\n",
       "    <tr>\n",
       "      <th>3</th>\n",
       "      <td>bende biliyorum benden bı bok olmicak</td>\n",
       "      <td>1</td>\n",
       "    </tr>\n",
       "    <tr>\n",
       "      <th>4</th>\n",
       "      <td>nerdesin len tirrek</td>\n",
       "      <td>1</td>\n",
       "    </tr>\n",
       "  </tbody>\n",
       "</table>\n",
       "</div>"
      ],
      "text/plain": [
       "                                             message  cyberbullying\n",
       "0  rabbim kalan ömrünü geçen ömründen hayırlı eyl...              0\n",
       "1  bir ateist olarak bu resmi gördükçe gözyaşları...              0\n",
       "2                 oo süpersin azıcık bize de bulaşsa              0\n",
       "3              bende biliyorum benden bı bok olmicak              1\n",
       "4                                nerdesin len tirrek              1"
      ]
     },
     "execution_count": 5,
     "metadata": {},
     "output_type": "execute_result"
    }
   ],
   "source": [
    "data.head()"
   ]
  },
  {
   "cell_type": "code",
   "execution_count": 6,
   "metadata": {},
   "outputs": [
    {
     "data": {
      "text/html": [
       "<div>\n",
       "<style scoped>\n",
       "    .dataframe tbody tr th:only-of-type {\n",
       "        vertical-align: middle;\n",
       "    }\n",
       "\n",
       "    .dataframe tbody tr th {\n",
       "        vertical-align: top;\n",
       "    }\n",
       "\n",
       "    .dataframe thead th {\n",
       "        text-align: right;\n",
       "    }\n",
       "</style>\n",
       "<table border=\"1\" class=\"dataframe\">\n",
       "  <thead>\n",
       "    <tr style=\"text-align: right;\">\n",
       "      <th></th>\n",
       "      <th>message</th>\n",
       "      <th>cyberbullying</th>\n",
       "    </tr>\n",
       "  </thead>\n",
       "  <tbody>\n",
       "    <tr>\n",
       "      <th>2991</th>\n",
       "      <td>çikolata kakaodan yapılıyor kakao ise ağacın t...</td>\n",
       "      <td>0</td>\n",
       "    </tr>\n",
       "    <tr>\n",
       "      <th>2992</th>\n",
       "      <td>sen çok kafana takıyorsun takıyorum kardeşim k...</td>\n",
       "      <td>1</td>\n",
       "    </tr>\n",
       "    <tr>\n",
       "      <th>2993</th>\n",
       "      <td>birinden kaçtin ama diğerinden kaçamadınbu ülk...</td>\n",
       "      <td>0</td>\n",
       "    </tr>\n",
       "    <tr>\n",
       "      <th>2994</th>\n",
       "      <td>düğün var diye mutlu olan var mı allah aşkına ...</td>\n",
       "      <td>0</td>\n",
       "    </tr>\n",
       "    <tr>\n",
       "      <th>2995</th>\n",
       "      <td>vefa ile ne alaka vefanın anlamını biliyor mu ...</td>\n",
       "      <td>0</td>\n",
       "    </tr>\n",
       "    <tr>\n",
       "      <th>2996</th>\n",
       "      <td>bismillahirahmanirahim yaallah hayırlı sabahla...</td>\n",
       "      <td>0</td>\n",
       "    </tr>\n",
       "    <tr>\n",
       "      <th>2997</th>\n",
       "      <td>jskdpdğeff deli amk</td>\n",
       "      <td>1</td>\n",
       "    </tr>\n",
       "    <tr>\n",
       "      <th>2998</th>\n",
       "      <td>nasıl bir yavşak serefsizsiniz hepiniz</td>\n",
       "      <td>1</td>\n",
       "    </tr>\n",
       "    <tr>\n",
       "      <th>2999</th>\n",
       "      <td>shipshipshiphayırlı olsun</td>\n",
       "      <td>0</td>\n",
       "    </tr>\n",
       "    <tr>\n",
       "      <th>3000</th>\n",
       "      <td>çookk tatlısın çok</td>\n",
       "      <td>0</td>\n",
       "    </tr>\n",
       "  </tbody>\n",
       "</table>\n",
       "</div>"
      ],
      "text/plain": [
       "                                                message  cyberbullying\n",
       "2991  çikolata kakaodan yapılıyor kakao ise ağacın t...              0\n",
       "2992  sen çok kafana takıyorsun takıyorum kardeşim k...              1\n",
       "2993  birinden kaçtin ama diğerinden kaçamadınbu ülk...              0\n",
       "2994  düğün var diye mutlu olan var mı allah aşkına ...              0\n",
       "2995  vefa ile ne alaka vefanın anlamını biliyor mu ...              0\n",
       "2996  bismillahirahmanirahim yaallah hayırlı sabahla...              0\n",
       "2997                                jskdpdğeff deli amk              1\n",
       "2998             nasıl bir yavşak serefsizsiniz hepiniz              1\n",
       "2999                          shipshipshiphayırlı olsun              0\n",
       "3000                                 çookk tatlısın çok              0"
      ]
     },
     "execution_count": 6,
     "metadata": {},
     "output_type": "execute_result"
    }
   ],
   "source": [
    "data.tail(10)"
   ]
  },
  {
   "cell_type": "code",
   "execution_count": 7,
   "metadata": {},
   "outputs": [
    {
     "name": "stdout",
     "output_type": "stream",
     "text": [
      "<class 'pandas.core.frame.DataFrame'>\n",
      "RangeIndex: 3001 entries, 0 to 3000\n",
      "Data columns (total 2 columns):\n",
      "message          3001 non-null object\n",
      "cyberbullying    3001 non-null int64\n",
      "dtypes: int64(1), object(1)\n",
      "memory usage: 47.0+ KB\n"
     ]
    }
   ],
   "source": [
    "data.info()"
   ]
  },
  {
   "cell_type": "code",
   "execution_count": 8,
   "metadata": {},
   "outputs": [
    {
     "data": {
      "text/html": [
       "<div>\n",
       "<style scoped>\n",
       "    .dataframe tbody tr th:only-of-type {\n",
       "        vertical-align: middle;\n",
       "    }\n",
       "\n",
       "    .dataframe tbody tr th {\n",
       "        vertical-align: top;\n",
       "    }\n",
       "\n",
       "    .dataframe thead th {\n",
       "        text-align: right;\n",
       "    }\n",
       "</style>\n",
       "<table border=\"1\" class=\"dataframe\">\n",
       "  <thead>\n",
       "    <tr style=\"text-align: right;\">\n",
       "      <th></th>\n",
       "      <th>cyberbullying</th>\n",
       "    </tr>\n",
       "  </thead>\n",
       "  <tbody>\n",
       "    <tr>\n",
       "      <th>count</th>\n",
       "      <td>3001.000000</td>\n",
       "    </tr>\n",
       "    <tr>\n",
       "      <th>mean</th>\n",
       "      <td>0.500833</td>\n",
       "    </tr>\n",
       "    <tr>\n",
       "      <th>std</th>\n",
       "      <td>0.500083</td>\n",
       "    </tr>\n",
       "    <tr>\n",
       "      <th>min</th>\n",
       "      <td>0.000000</td>\n",
       "    </tr>\n",
       "    <tr>\n",
       "      <th>25%</th>\n",
       "      <td>0.000000</td>\n",
       "    </tr>\n",
       "    <tr>\n",
       "      <th>50%</th>\n",
       "      <td>1.000000</td>\n",
       "    </tr>\n",
       "    <tr>\n",
       "      <th>75%</th>\n",
       "      <td>1.000000</td>\n",
       "    </tr>\n",
       "    <tr>\n",
       "      <th>max</th>\n",
       "      <td>1.000000</td>\n",
       "    </tr>\n",
       "  </tbody>\n",
       "</table>\n",
       "</div>"
      ],
      "text/plain": [
       "       cyberbullying\n",
       "count    3001.000000\n",
       "mean        0.500833\n",
       "std         0.500083\n",
       "min         0.000000\n",
       "25%         0.000000\n",
       "50%         1.000000\n",
       "75%         1.000000\n",
       "max         1.000000"
      ]
     },
     "execution_count": 8,
     "metadata": {},
     "output_type": "execute_result"
    }
   ],
   "source": [
    "data.describe()"
   ]
  },
  {
   "cell_type": "code",
   "execution_count": 9,
   "metadata": {},
   "outputs": [],
   "source": [
    "y = data.cyberbullying.values\n",
    "x = data.message.values"
   ]
  },
  {
   "cell_type": "code",
   "execution_count": 10,
   "metadata": {},
   "outputs": [
    {
     "name": "stdout",
     "output_type": "stream",
     "text": [
      "['rabbim kalan ömrünü geçen ömründen hayırlı eylesin'\n",
      " 'bir ateist olarak bu resmi gördükçe gözyaşlarıma mani olamıyorum'\n",
      " 'oo süpersin azıcık bize de bulaşsa' ...\n",
      " 'nasıl bir yavşak serefsizsiniz hepiniz' 'shipshipshiphayırlı olsun'\n",
      " 'çookk tatlısın çok']\n",
      "3001\n"
     ]
    }
   ],
   "source": [
    "print(x)\n",
    "print(len(x))"
   ]
  },
  {
   "cell_type": "code",
   "execution_count": 11,
   "metadata": {},
   "outputs": [
    {
     "data": {
      "text/plain": [
       "(3001,)"
      ]
     },
     "execution_count": 11,
     "metadata": {},
     "output_type": "execute_result"
    }
   ],
   "source": [
    "x.shape"
   ]
  },
  {
   "cell_type": "code",
   "execution_count": 12,
   "metadata": {},
   "outputs": [
    {
     "data": {
      "text/plain": [
       "(3001,)"
      ]
     },
     "execution_count": 12,
     "metadata": {},
     "output_type": "execute_result"
    }
   ],
   "source": [
    "y.shape"
   ]
  },
  {
   "cell_type": "markdown",
   "metadata": {},
   "source": [
    "# Test ve Train Datalarımızı Ayıralım"
   ]
  },
  {
   "cell_type": "code",
   "execution_count": 13,
   "metadata": {},
   "outputs": [],
   "source": [
    "from sklearn.model_selection import train_test_split\n",
    "x_train, x_test, y_train, y_test = train_test_split(x,y,test_size=0.25,random_state=42)"
   ]
  },
  {
   "cell_type": "code",
   "execution_count": 14,
   "metadata": {},
   "outputs": [
    {
     "name": "stdout",
     "output_type": "stream",
     "text": [
      "2250\n",
      "751\n"
     ]
    }
   ],
   "source": [
    "print(len(x_train))\n",
    "print(len(x_test))"
   ]
  },
  {
   "cell_type": "code",
   "execution_count": 15,
   "metadata": {},
   "outputs": [],
   "source": [
    "veri = x.copy()"
   ]
  },
  {
   "cell_type": "code",
   "execution_count": 16,
   "metadata": {},
   "outputs": [
    {
     "data": {
      "text/plain": [
       "(3001,)"
      ]
     },
     "execution_count": 16,
     "metadata": {},
     "output_type": "execute_result"
    }
   ],
   "source": [
    "veri.shape"
   ]
  },
  {
   "cell_type": "markdown",
   "metadata": {},
   "source": [
    "# CountVectorizer ile Başlayalım!"
   ]
  },
  {
   "cell_type": "code",
   "execution_count": 17,
   "metadata": {},
   "outputs": [],
   "source": [
    "# Stopwords tanımlamamız lazım."
   ]
  },
  {
   "cell_type": "code",
   "execution_count": 18,
   "metadata": {},
   "outputs": [],
   "source": [
    "from nltk.corpus import stopwords\n",
    "stop = stopwords.words(\"turkish\")"
   ]
  },
  {
   "cell_type": "code",
   "execution_count": 19,
   "metadata": {},
   "outputs": [
    {
     "data": {
      "text/plain": [
       "CountVectorizer(analyzer='word', binary=False, decode_error='strict',\n",
       "        dtype=<class 'numpy.int64'>, encoding='utf-8', input='content',\n",
       "        lowercase=True, max_df=1.0, max_features=None, min_df=5,\n",
       "        ngram_range=(1, 3), preprocessor=None,\n",
       "        stop_words=['acaba', 'ama', 'aslında', 'az', 'bazı', 'belki', 'biri', 'birkaç', 'birşey', 'biz', 'bu', 'çok', 'çünkü', 'da', 'daha', 'de', 'defa', 'diye', 'eğer', 'en', 'gibi', 'hem', 'hep', 'hepsi', 'her', 'hiç', 'için', 'ile', 'ise', 'kez', 'ki', 'kim', 'mı', 'mu', 'mü', 'nasıl', 'ne', 'neden', 'nerde', 'nerede', 'nereye', 'niçin', 'niye', 'o', 'sanki', 'şey', 'siz', 'şu', 'tüm', 've', 'veya', 'ya', 'yani'],\n",
       "        strip_accents=None, token_pattern='(?u)\\\\b\\\\w\\\\w+\\\\b',\n",
       "        tokenizer=None, vocabulary=None)"
      ]
     },
     "execution_count": 19,
     "metadata": {},
     "output_type": "execute_result"
    }
   ],
   "source": [
    "from sklearn.feature_extraction.text import CountVectorizer\n",
    "vectorizer = CountVectorizer(min_df=5,stop_words=stop,ngram_range=(1,3))\n",
    "vectorizer.fit(veri)"
   ]
  },
  {
   "cell_type": "code",
   "execution_count": 20,
   "metadata": {},
   "outputs": [
    {
     "data": {
      "text/plain": [
       "\"<3001x795 sparse matrix of type '<class 'numpy.int64'>'\\n\\twith 11001 stored elements in Compressed Sparse Row format>\""
      ]
     },
     "execution_count": 20,
     "metadata": {},
     "output_type": "execute_result"
    }
   ],
   "source": [
    "# bag of word\n",
    "BoW = vectorizer.transform(veri)\n",
    "repr(BoW)"
   ]
  },
  {
   "cell_type": "code",
   "execution_count": 21,
   "metadata": {},
   "outputs": [
    {
     "name": "stdout",
     "output_type": "stream",
     "text": [
      "100 ile 110 arasındaki değerler:\n",
      "['ben', 'bence', 'bende', 'benden', 'beni', 'benim', 'beraber', 'berduş', 'beri', 'bey']\n"
     ]
    }
   ],
   "source": [
    "feature_names = vectorizer.get_feature_names()\n",
    "print(\"100 ile 110 arasındaki değerler:\\n{}\".format(feature_names[100:110]))"
   ]
  },
  {
   "cell_type": "markdown",
   "metadata": {},
   "source": [
    "# TFIDF Vectorizer"
   ]
  },
  {
   "cell_type": "code",
   "execution_count": 22,
   "metadata": {},
   "outputs": [
    {
     "name": "stdout",
     "output_type": "stream",
     "text": [
      "Vocabularies using min_df=1 and n_gram=(1, 1) with highest tfidf: \n",
      "['sınav' 'uzat' 'gittin' 'sıffır' 'hödük' 'vay' 'tarzdır' 'hee' 'yalayın'\n",
      " 'styling' 'güzelsin' 'tatlısın' 'tırrek' 'andaval' 'sisko' 'şişko'\n",
      " '09052018' 'diyarbakır' 'tatlı' 'yobaz']\n",
      "The number of vocabularies: 11458\n",
      "Vocabularies with lowest idf:\n",
      "['bir' 'sen' 'kadar' 'ben' 'var' 'bi' 'senin' 'orospu' 'amk' 'seni'\n",
      " 'olsun' 'lan' 'gerizeka' 'mutluyum' 'yok' 'pislik' 'mi' 'güzel' 'andaval'\n",
      " 'değil']\n",
      "-----------------------------------\n",
      "Vocabularies using min_df=1 and n_gram=(1, 2) with highest tfidf: \n",
      "['güzelsin kız' 'güzelsin çocuk' 'herkes gerizeka' 'uzat' 'güzelsin sen'\n",
      " 'güzelsin güzel' 'ulan amk' 'hee' 'yalayın' 'diyarbakır' 'andaval'\n",
      " 'sisko' 'tırrek' 'tatlısın' '09052018' 'styling' 'yobaz' 'tatlı' 'şişko'\n",
      " 'güzelsin']\n",
      "The number of vocabularies: 32321\n",
      "Vocabularies with lowest idf:\n",
      "['bir' 'sen' 'ben' 'kadar' 'var' 'bi' 'senin' 'orospu' 'amk' 'seni'\n",
      " 'olsun' 'lan' 'gerizeka' 'mutluyum' 'yok' 'pislik' 'mi' 'güzel' 'andaval'\n",
      " 'değil']\n",
      "-----------------------------------\n",
      "Vocabularies using min_df=1 and n_gram=(1, 3) with highest tfidf: \n",
      "['harikasın sen' 'angut var' 'embesil seni' 'güzelsin çocuk'\n",
      " 'güzelsin kız' 'herkes gerizeka' 'güzelsin sen' 'güzelsin güzel'\n",
      " 'ulan amk' 'güzelsin' '09052018' 'diyarbakır' 'styling' 'tatlı'\n",
      " 'tatlısın' 'sisko' 'yobaz' 'şişko' 'andaval' 'tırrek']\n",
      "The number of vocabularies: 51144\n",
      "Vocabularies with lowest idf:\n",
      "['bir' 'sen' 'kadar' 'ben' 'var' 'bi' 'senin' 'orospu' 'amk' 'seni'\n",
      " 'olsun' 'lan' 'gerizeka' 'mutluyum' 'yok' 'mi' 'pislik' 'güzel' 'andaval'\n",
      " 'değil']\n",
      "-----------------------------------\n",
      "Vocabularies using min_df=1 and n_gram=(2, 3) with highest tfidf: \n",
      "['orospu catelyn' 'huzurlu sabahlar' 'tatlisin yaa' 'sevimsiz pezevenk'\n",
      " 'beyinsiz tudor' 'tatilse tatil' 'yarak nasilsin'\n",
      " 'flamingoları öldürmeyin' 'enanlamlıiyiki ulasastepe' 'çookk tatlısın'\n",
      " 'güzelsin army' 'ağzına sıçarım' 'siktir puşt' 'hakkınızdı tebrikler'\n",
      " 'irkçı pislikler' 'öküz bakıyorsunuz' 'hayırlı cumalar' 'biraz müzik'\n",
      " 'titrek serap' 'kinci pezevenk']\n",
      "The number of vocabularies: 39686\n",
      "Vocabularies with lowest idf:\n",
      "['orospu çocuğu' 'kutlu olsun' 'tam bir' 'hayırlı olsun'\n",
      " 'orospu çocukları' 'siktir git' 'bir şarkı' 'bir gün' 'günün kutlu'\n",
      " 'hayırlı sabahlar' 'sen kimsin' 'lanet olsun' 'günün kutlu olsun'\n",
      " 'değil mi' 'amına koyduğum' 'danla bilic' 'hadi hayırlısı'\n",
      " 'doğum günün kutlu' 'düğün var' 'doğum günün']\n",
      "-----------------------------------\n",
      "Vocabularies using min_df=2 and n_gram=(1, 1) with highest tfidf: \n",
      "['piç' 'izmir' 'tırrek' 'sapık' 'döl' 'pislikler' 'kaldı' 'dümbük' 'dünya'\n",
      " 'dünyada' 'dürzü' 'düğün' 'başlasın' 'pislik' 'musmutlu' 'kadar'\n",
      " 'zampara' 'ender' 'mutluyum' 'hayirlisi']\n",
      "The number of vocabularies: 2887\n",
      "Vocabularies with lowest idf:\n",
      "['bir' 'sen' 'kadar' 'ben' 'var' 'bi' 'senin' 'orospu' 'amk' 'seni'\n",
      " 'olsun' 'lan' 'gerizeka' 'mutluyum' 'yok' 'pislik' 'mi' 'güzel' 'andaval'\n",
      " 'değil']\n",
      "-----------------------------------\n",
      "Vocabularies using min_df=2 and n_gram=(1, 2) with highest tfidf: \n",
      "['dangalak' 'dallama' 'yazik' 'dünyada' 'başarılı' 'kubilay' 'yaz'\n",
      " 'önemli' 'sen' 'döl' 'dünya' 'güzelsin' 'barzo' 'dümbük' 'konseri'\n",
      " 'kocasının' 'bakın' 'cüce' 'ol' 'teşekkür']\n",
      "The number of vocabularies: 3714\n",
      "Vocabularies with lowest idf:\n",
      "['bir' 'sen' 'ben' 'kadar' 'var' 'bi' 'senin' 'orospu' 'amk' 'seni'\n",
      " 'olsun' 'lan' 'gerizeka' 'mutluyum' 'yok' 'pislik' 'mi' 'güzel' 'andaval'\n",
      " 'değil']\n",
      "-----------------------------------\n",
      "Vocabularies using min_df=2 and n_gram=(1, 3) with highest tfidf: \n",
      "['soğuk' 'olsun' 'başarılı' 'on' 'orospu' 'başlasın' 'sorular' 'be' 'para'\n",
      " 'berduş' 'son' 'solmasın' 'düğün' 'sokarım' 'dürzü' 'dünyada'\n",
      " 'bilgisayar' 'bir' 'dangalak' 'kaya']\n",
      "The number of vocabularies: 4007\n",
      "Vocabularies with lowest idf:\n",
      "['bir' 'sen' 'ben' 'kadar' 'var' 'bi' 'senin' 'orospu' 'amk' 'seni'\n",
      " 'olsun' 'lan' 'gerizeka' 'mutluyum' 'yok' 'mi' 'pislik' 'güzel' 'andaval'\n",
      " 'değil']\n",
      "-----------------------------------\n",
      "Vocabularies using min_df=2 and n_gram=(2, 3) with highest tfidf: \n",
      "['hayırlısı olsun' 'kadar güzel' 'kabul etti' 'hiçbir zaman'\n",
      " 'hocasıyla öğrencisiyle' 'huzurlu sabahlar' 'hıncal uluç' 'ilk yarı'\n",
      " 'insan hakları' 'insanlar var' 'insanları üzmeyin' 'ismail kahraman'\n",
      " 'iyi bir' 'iyi kötü' 'iyi sen' 'işi gücü' 'işin var'\n",
      " 'işte cerrahpaşaduruşu' 'kadar andaval' 'kadar güzelsin']\n",
      "The number of vocabularies: 1120\n",
      "Vocabularies with lowest idf:\n",
      "['orospu çocuğu' 'kutlu olsun' 'tam bir' 'hayırlı olsun'\n",
      " 'orospu çocukları' 'siktir git' 'bir şarkı' 'hayırlı sabahlar'\n",
      " 'günün kutlu' 'sen kimsin' 'bir gün' 'lanet olsun' 'günün kutlu olsun'\n",
      " 'değil mi' 'doğum günün kutlu' 'amına koyduğum' 'danla bilic' 'düğün var'\n",
      " 'hadi hayırlısı' 'doğum günün']\n",
      "-----------------------------------\n",
      "Vocabularies using min_df=3 and n_gram=(1, 1) with highest tfidf: \n",
      "['güzelsin' 'günaydın' 'göt' 'sorular' 'hayırlısı' 'gurur' 'gerizeka'\n",
      " 'geldi' 'sahip' 'gece' 'gavur' 'galatasaray' 'fahişe' 'yarak' 'ey' 'evde'\n",
      " 'et' 'ender' 'sikik' 'yaz']\n",
      "The number of vocabularies: 1556\n",
      "Vocabularies with lowest idf:\n",
      "['bir' 'sen' 'kadar' 'ben' 'var' 'bi' 'senin' 'orospu' 'amk' 'seni'\n",
      " 'olsun' 'lan' 'gerizeka' 'mutluyum' 'yok' 'pislik' 'mi' 'güzel' 'andaval'\n",
      " 'değil']\n",
      "-----------------------------------\n",
      "Vocabularies using min_df=3 and n_gram=(1, 2) with highest tfidf: \n",
      "['hala' 'hali' 'bilgisayar' 'sürtük' 'harikasın' 'süpersin' 'berduş'\n",
      " 'hayır' 'hayırlı' 'hayırlısı' 'hazan' 'ben' 'soğuk' 'be' 'soytarı'\n",
      " 'yobaz' 'yok' 'başarılı' 'günaydın' 'olmuyor']\n",
      "The number of vocabularies: 1729\n",
      "Vocabularies with lowest idf:\n",
      "['bir' 'sen' 'kadar' 'ben' 'var' 'bi' 'senin' 'orospu' 'amk' 'seni'\n",
      " 'olsun' 'lan' 'gerizeka' 'mutluyum' 'yok' 'mi' 'pislik' 'güzel' 'andaval'\n",
      " 'değil']\n",
      "-----------------------------------\n",
      "Vocabularies using min_df=3 and n_gram=(1, 3) with highest tfidf: \n",
      "['yaz' 'bücür' 'yazik' 'böyle' 'soğuk' 'soytarı' 'sorular' 'hocam' 'bok'\n",
      " 'hödük' 'son' 'sol' 'birde' 'sokarım' 'hırtapoz' 'sizin' 'ibne' 'bir'\n",
      " 'hazan' 'olsa']\n",
      "The number of vocabularies: 1751\n",
      "Vocabularies with lowest idf:\n",
      "['bir' 'sen' 'ben' 'kadar' 'var' 'bi' 'senin' 'orospu' 'amk' 'seni'\n",
      " 'olsun' 'lan' 'gerizeka' 'mutluyum' 'yok' 'mi' 'pislik' 'güzel' 'andaval'\n",
      " 'değil']\n",
      "-----------------------------------\n",
      "Vocabularies using min_df=3 and n_gram=(2, 3) with highest tfidf: \n",
      "['defol git' 'ders çalışmak' 'devam ediyor' 'devam et' 'değil mi'\n",
      " 'dikkat edin' 'düğün sezonu' 'düğün var' 'kadar güzelsin'\n",
      " 'elimde telefon' 'fatih terim' 'gediz deltası' 'gerek yok' 'geri zekalı'\n",
      " 'gerizeka bir' 'gerizeka tudor' 'git lan' 'gün boyu' 'embesil sen'\n",
      " 'herkese hayırlı']\n",
      "The number of vocabularies: 195\n",
      "Vocabularies with lowest idf:\n",
      "['orospu çocuğu' 'kutlu olsun' 'tam bir' 'hayırlı olsun'\n",
      " 'orospu çocukları' 'siktir git' 'bir şarkı' 'bir gün' 'hayırlı sabahlar'\n",
      " 'günün kutlu' 'sen kimsin' 'günün kutlu olsun' 'değil mi' 'lanet olsun'\n",
      " 'düğün var' 'doğum günün kutlu' 'amına koyduğum' 'danla bilic'\n",
      " 'doğum günün' 'hadi hayırlısı']\n",
      "-----------------------------------\n",
      "Vocabularies using min_df=4 and n_gram=(1, 1) with highest tfidf: \n",
      "['tatlısın' 'iyiki' 'iyi' 'tebrik' 'herkesi' 'tebrikler' 'insan' 'telefon'\n",
      " 'ilkbahar' 'teşekkür' 'teşekkürler' 'tirrek' 'ibne' 'hırtapoz' 'hödük'\n",
      " 'türkiye' 'hocam' 'tırrek' 'insanlar' 'şırfıntı']\n",
      "The number of vocabularies: 1016\n",
      "Vocabularies with lowest idf:\n",
      "['bir' 'sen' 'kadar' 'ben' 'var' 'bi' 'senin' 'orospu' 'amk' 'seni'\n",
      " 'olsun' 'lan' 'gerizeka' 'mutluyum' 'yok' 'pislik' 'mi' 'güzel' 'andaval'\n",
      " 'değil']\n",
      "-----------------------------------\n",
      "Vocabularies using min_df=4 and n_gram=(1, 2) with highest tfidf: \n",
      "['hafta' 'dallama' 'sol' 'sonra' 'fena' 'galatasaray' 'sıra' 'gavur'\n",
      " 'sürtük' 'gece' 'son' 'süpersin' 'geldi' 'gerizeka' 'gerzek' 'soğuk'\n",
      " 'soytarı' 'gurur' 'gel' 'şırfıntı']\n",
      "The number of vocabularies: 1096\n",
      "Vocabularies with lowest idf:\n",
      "['bir' 'sen' 'kadar' 'ben' 'var' 'bi' 'senin' 'orospu' 'amk' 'seni'\n",
      " 'olsun' 'lan' 'gerizeka' 'mutluyum' 'yok' 'mi' 'pislik' 'güzel' 'andaval'\n",
      " 'değil']\n",
      "-----------------------------------\n",
      "Vocabularies using min_df=4 and n_gram=(1, 3) with highest tfidf: \n",
      "['dünyadaki' 'dünyada' 'türkiye' 'dünya' 'tebrik' 'dümbük' 'sahip' 'döl'\n",
      " 'dua' 'ibne' 'dombili' 'ilkbahar' 'insan' 'insanlar' 'dingil' 'puşt'\n",
      " 'değerli' 'iyi' 'tırrek' 'şırfıntı']\n",
      "The number of vocabularies: 1100\n",
      "Vocabularies with lowest idf:\n",
      "['bir' 'sen' 'kadar' 'ben' 'var' 'bi' 'senin' 'orospu' 'amk' 'seni'\n",
      " 'olsun' 'lan' 'gerizeka' 'mutluyum' 'yok' 'mi' 'pislik' 'güzel' 'andaval'\n",
      " 'değil']\n",
      "-----------------------------------\n"
     ]
    },
    {
     "name": "stdout",
     "output_type": "stream",
     "text": [
      "Vocabularies using min_df=4 and n_gram=(2, 3) with highest tfidf: \n",
      "['bir pislik' 'bir sanat' 'hayırlı akşamlar' 'şişko yanaklarımı'\n",
      " 'güzel bir' 'git lan' 'gerizeka tudor' 'gerizeka bir' 'geri zekalı'\n",
      " 'hayırlı olsun' 'gerek yok' 'değil mi' 'defol git' 'danla bilic'\n",
      " 'bundan sonra' 'bir şarkı' 'bir çocuk' 'bir sürü' 'düğün var'\n",
      " 'hadi hayırlısı']\n",
      "The number of vocabularies: 84\n",
      "Vocabularies with lowest idf:\n",
      "['orospu çocuğu' 'kutlu olsun' 'tam bir' 'hayırlı olsun'\n",
      " 'orospu çocukları' 'siktir git' 'bir şarkı' 'sen kimsin'\n",
      " 'hayırlı sabahlar' 'günün kutlu' 'bir gün' 'günün kutlu olsun' 'değil mi'\n",
      " 'lanet olsun' 'danla bilic' 'düğün var' 'doğum günün kutlu' 'doğum günün'\n",
      " 'amına koyduğum' 'hadi hayırlısı']\n",
      "-----------------------------------\n",
      "Vocabularies using min_df=5 and n_gram=(1, 1) with highest tfidf: \n",
      "['kız' 'kültür' 'kutlu' 'kitap' 'kerhane' 'kendi' 'keko' 'kaybetmekorkusu'\n",
      " 'ilkbahar' 'karşı' 'kaldı' 'kahpe' 'kadın' 'kadro' 'kadar' 'iyi'\n",
      " 'istiyorum' 'insanlar' 'kardeşim' 'şırfıntı']\n",
      "The number of vocabularies: 759\n",
      "Vocabularies with lowest idf:\n",
      "['bir' 'sen' 'ben' 'kadar' 'var' 'bi' 'senin' 'orospu' 'amk' 'seni'\n",
      " 'olsun' 'lan' 'gerizeka' 'mutluyum' 'yok' 'pislik' 'mi' 'güzel' 'andaval'\n",
      " 'değil']\n",
      "-----------------------------------\n",
      "Vocabularies using min_df=5 and n_gram=(1, 2) with highest tfidf: \n",
      "['dallama' 'cüce' 'sinema' 'cok' 'böyle' 'gerzek' 'sizin' 'cidden'\n",
      " 'cibiliyetsiz' 'sokarım' 'guzel' 'son' 'sonra' 'cerrahpaşaduruşu'\n",
      " 'cenabet' 'göt' 'bütün' 'bücür' 'gurur' 'şırfıntı']\n",
      "The number of vocabularies: 793\n",
      "Vocabularies with lowest idf:\n",
      "['bir' 'sen' 'ben' 'kadar' 'var' 'bi' 'senin' 'orospu' 'amk' 'seni'\n",
      " 'olsun' 'lan' 'gerizeka' 'mutluyum' 'yok' 'mi' 'pislik' 'güzel' 'andaval'\n",
      " 'değil']\n",
      "-----------------------------------\n",
      "Vocabularies using min_df=5 and n_gram=(1, 3) with highest tfidf: \n",
      "['dallama' 'cüce' 'sinema' 'cok' 'böyle' 'gerzek' 'sizin' 'cidden'\n",
      " 'cibiliyetsiz' 'sokarım' 'guzel' 'son' 'sonra' 'cerrahpaşaduruşu'\n",
      " 'cenabet' 'göt' 'bütün' 'bücür' 'gurur' 'şırfıntı']\n",
      "The number of vocabularies: 795\n",
      "Vocabularies with lowest idf:\n",
      "['bir' 'sen' 'ben' 'kadar' 'var' 'bi' 'senin' 'orospu' 'amk' 'seni'\n",
      " 'olsun' 'lan' 'gerizeka' 'mutluyum' 'yok' 'mi' 'pislik' 'güzel' 'andaval'\n",
      " 'değil']\n",
      "-----------------------------------\n",
      "Vocabularies using min_df=5 and n_gram=(2, 3) with highest tfidf: \n",
      "['tam bir' 'nefret ediyorum' 'kadar güzel' 'hayırlı cumalar'\n",
      " 'hayırlı olsun' 'türkiye nin' 'hadi hayırlısı' 'gerizeka tudor'\n",
      " 'gerek yok' 'düğün var' 'değil mi' 'danla bilic' 'bir şarkı' 'bir sürü'\n",
      " 'bir pislik' 'bir orospu' 'bir gün' 'bir adam' 'hayırlı sabahlar'\n",
      " 'şişko yanaklarımı']\n",
      "The number of vocabularies: 36\n",
      "Vocabularies with lowest idf:\n",
      "['orospu çocuğu' 'kutlu olsun' 'tam bir' 'hayırlı olsun'\n",
      " 'orospu çocukları' 'siktir git' 'bir şarkı' 'bir gün' 'sen kimsin'\n",
      " 'hayırlı sabahlar' 'günün kutlu' 'değil mi' 'lanet olsun'\n",
      " 'günün kutlu olsun' 'hadi hayırlısı' 'amına koyduğum' 'düğün var'\n",
      " 'doğum günün' 'danla bilic' 'doğum günün kutlu']\n",
      "-----------------------------------\n",
      "Vocabularies using min_df=6 and n_gram=(1, 1) with highest tfidf: \n",
      "['sahip' 'sakın' 'dünyanın' 'sanane' 'başladı' 'sanat' 'kendi' 'birde'\n",
      " 'sen' 'sende' 'bir' 'seni' 'senin' 'bilgisayar' 'serefiz' 'sersem' 'keko'\n",
      " 'karşı' 'sanırım' 'şırfıntı']\n",
      "The number of vocabularies: 608\n",
      "Vocabularies with lowest idf:\n",
      "['bir' 'sen' 'kadar' 'ben' 'var' 'bi' 'senin' 'orospu' 'amk' 'seni'\n",
      " 'olsun' 'lan' 'gerizeka' 'mutluyum' 'yok' 'mi' 'pislik' 'güzel' 'andaval'\n",
      " 'değil']\n",
      "-----------------------------------\n",
      "Vocabularies using min_df=6 and n_gram=(1, 2) with highest tfidf: \n",
      "['sanane' 'sanat' 'sanırım' 'hangi' 'dünyanın' 'hala' 'sen' 'güzelsin'\n",
      " 'sende' 'günaydın' 'seni' 'senin' 'göt' 'serefiz' 'sersem' 'guzel'\n",
      " 'gurur' 'sikerim' 'hafta' 'şırfıntı']\n",
      "The number of vocabularies: 630\n",
      "Vocabularies with lowest idf:\n",
      "['bir' 'sen' 'ben' 'kadar' 'var' 'bi' 'senin' 'orospu' 'amk' 'seni'\n",
      " 'olsun' 'lan' 'gerizeka' 'mutluyum' 'yok' 'mi' 'pislik' 'güzel' 'andaval'\n",
      " 'değil']\n",
      "-----------------------------------\n",
      "Vocabularies using min_df=6 and n_gram=(1, 3) with highest tfidf: \n",
      "['rağmen' 'guzel' 'gurur' 'sabah' 'gerzek' 'sahip' 'sakın' 'sanane'\n",
      " 'sanat' 'sanırım' 'gerizeka' 'gerek' 'gelsin' 'sen' 'geldi' 'sende' 'gel'\n",
      " 'seni' 'dönek' 'şırfıntı']\n",
      "The number of vocabularies: 632\n",
      "Vocabularies with lowest idf:\n",
      "['bir' 'sen' 'ben' 'kadar' 'var' 'bi' 'senin' 'orospu' 'amk' 'seni'\n",
      " 'olsun' 'lan' 'gerizeka' 'mutluyum' 'yok' 'pislik' 'mi' 'güzel' 'andaval'\n",
      " 'değil']\n",
      "-----------------------------------\n",
      "Vocabularies using min_df=6 and n_gram=(2, 3) with highest tfidf: \n",
      "['sen kimsin' 'orospu çocuğu' 'orospu çocukları' 'nefret ediyorum'\n",
      " 'lanet olsun' 'kutlu olsun' 'hayırlı sabahlar' 'hayırlı olsun'\n",
      " 'hayırlı cumalar' 'amına koyduğum' 'siktir git' 'düğün var' 'değil mi'\n",
      " 'danla bilic' 'bir şarkı' 'bir pislik' 'bir orospu' 'bir gün'\n",
      " 'hadi hayırlısı' 'tam bir']\n",
      "The number of vocabularies: 24\n",
      "Vocabularies with lowest idf:\n",
      "['orospu çocuğu' 'kutlu olsun' 'tam bir' 'orospu çocukları'\n",
      " 'hayırlı olsun' 'siktir git' 'bir şarkı' 'bir gün' 'sen kimsin'\n",
      " 'hayırlı sabahlar' 'günün kutlu' 'lanet olsun' 'günün kutlu olsun'\n",
      " 'değil mi' 'düğün var' 'doğum günün kutlu' 'doğum günün' 'danla bilic'\n",
      " 'hadi hayırlısı' 'amına koyduğum']\n",
      "-----------------------------------\n"
     ]
    }
   ],
   "source": [
    "from sklearn.feature_extraction.text import TfidfVectorizer\n",
    "for min_df in [1,2,3,4,5,6]:\n",
    "    for n_gram in [(1,1),(1,2),(1,3),(2,3)]:\n",
    "        tf_vectorizer = TfidfVectorizer(min_df=min_df, stop_words=stop,ngram_range=n_gram)\n",
    "        veri1 = tf_vectorizer.fit_transform(veri)\n",
    "        best = veri1.max(axis=0).toarray().ravel()\n",
    "        sort_by_tfidf = best.argsort()\n",
    "        feature_names = np.array(tf_vectorizer.get_feature_names())\n",
    "        print(\"Vocabularies using min_df={} and n_gram={} with highest tfidf: \\n{}\".format(min_df, n_gram, feature_names[sort_by_tfidf[-20:]]))\n",
    "        print(\"The number of vocabularies: {}\".format(len(tf_vectorizer.vocabulary_)))\n",
    "        sort_by_tfidf = np.argsort(tf_vectorizer.idf_)\n",
    "        print(\"Vocabularies with lowest idf:\\n{}\".format(feature_names[sort_by_tfidf[:20]]))\n",
    "        print('-----------------------------------')"
   ]
  },
  {
   "cell_type": "markdown",
   "metadata": {},
   "source": [
    "Projemizde kullanacağımız metotlarımızı import ediyoruz."
   ]
  },
  {
   "cell_type": "code",
   "execution_count": 23,
   "metadata": {},
   "outputs": [],
   "source": [
    "from sklearn.svm import LinearSVC\n",
    "from sklearn.naive_bayes import MultinomialNB\n",
    "from sklearn.tree import DecisionTreeClassifier\n",
    "from sklearn.ensemble import RandomForestClassifier"
   ]
  },
  {
   "cell_type": "code",
   "execution_count": 24,
   "metadata": {},
   "outputs": [],
   "source": [
    "from sklearn.model_selection import GridSearchCV\n",
    "from sklearn.metrics import confusion_matrix\n",
    "from sklearn.metrics import precision_score, recall_score\n",
    "from sklearn.metrics import f1_score"
   ]
  },
  {
   "cell_type": "markdown",
   "metadata": {},
   "source": [
    "Pipeline yapısı kullanacağım. İnternette gördüm ve çok faydalı olduğuna inanıyorum"
   ]
  },
  {
   "cell_type": "code",
   "execution_count": 25,
   "metadata": {},
   "outputs": [],
   "source": [
    "from sklearn.pipeline import Pipeline"
   ]
  },
  {
   "cell_type": "markdown",
   "metadata": {},
   "source": [
    "Modelde kullanacağımız metotları, vectorizerları da kullanarak tek tek tanıtmaya başlıyorum."
   ]
  },
  {
   "cell_type": "code",
   "execution_count": 26,
   "metadata": {},
   "outputs": [],
   "source": [
    "LinearSVC_count = Pipeline([\n",
    "    ('countvectorizer',CountVectorizer()),\n",
    "    ('LinearSVC',LinearSVC(max_iter=1000))\n",
    "])\n",
    "\n",
    "LinearSVC_tfidf = Pipeline([\n",
    "        ('tfidfvectorizer', TfidfVectorizer()),\n",
    "        ('LinearSVC', LinearSVC(max_iter=1000))\n",
    "])"
   ]
  },
  {
   "cell_type": "code",
   "execution_count": 27,
   "metadata": {},
   "outputs": [],
   "source": [
    "# İkinci olarak Naive Bayes\n",
    "Naive_count = Pipeline([\n",
    "        ('countvectorizer', CountVectorizer()),\n",
    "        ('multinomialnb', MultinomialNB())\n",
    "])\n",
    "\n",
    "Naive_tfidf = Pipeline([\n",
    "        ('tfidfvectorizer', TfidfVectorizer()),\n",
    "        ('multinomialnb', MultinomialNB())\n",
    "])"
   ]
  },
  {
   "cell_type": "code",
   "execution_count": 28,
   "metadata": {},
   "outputs": [],
   "source": [
    "# Üçüncü modelimiz Decision Tree\n",
    "Decision_count = Pipeline([\n",
    "        ('countvectorizer', CountVectorizer()),\n",
    "        ('decisiontreeclassifier', DecisionTreeClassifier())\n",
    "])\n",
    "\n",
    "Decision_tfidf = Pipeline([\n",
    "        ('tfidfvectorizer', TfidfVectorizer()),\n",
    "        ('decisiontreeclassifier', DecisionTreeClassifier())\n",
    "])"
   ]
  },
  {
   "cell_type": "code",
   "execution_count": 29,
   "metadata": {},
   "outputs": [],
   "source": [
    "# Son olarak: Random Forest\n",
    "RandomForest_count = Pipeline([\n",
    "        ('countvectorizer', CountVectorizer()),\n",
    "        ('randomforestclassifier', RandomForestClassifier(n_estimators=100))\n",
    "])\n",
    "\n",
    "RandomForest_tfidf = Pipeline([\n",
    "        ('tfidfvectorizer', TfidfVectorizer()),\n",
    "        ('randomforestclassifier', RandomForestClassifier(n_estimators=100))\n",
    "])"
   ]
  },
  {
   "cell_type": "markdown",
   "metadata": {},
   "source": [
    "Şimdi parametrelerimizi tanıtalım. Metotların içinden yalnızca LinearSVC hyper parameter olarak 'C' parametresini alıyor. O nedenle LinearSVC parametrelerini ayrı, kalan 3 metotun parametrelerini ayrı alacağım."
   ]
  },
  {
   "cell_type": "code",
   "execution_count": 36,
   "metadata": {},
   "outputs": [],
   "source": [
    "# İlk olarak bünyesinde Count Vectorizer olan parametreler.\n",
    "parameters_of_svc_count = [ \n",
    "    {\n",
    "        'LinearSVC__C': [0.01, 0.1, 1, 10, 100], \n",
    "        'countvectorizer__min_df': [1,3,5], \n",
    "        'countvectorizer__stop_words': [None, stop],\n",
    "        'countvectorizer__ngram_range': [(1, 1), (1, 2), (1, 3), (2, 3)]\n",
    "    } \n",
    "]\n",
    "\n",
    "parameters_general_count = [ \n",
    "    {\n",
    "        'countvectorizer__min_df': [1,3,5], \n",
    "        'countvectorizer__stop_words': [None, stop],\n",
    "        'countvectorizer__ngram_range': [(1, 1), (1, 2), (1, 3), (2, 3)]\n",
    "    }\n",
    "]"
   ]
  },
  {
   "cell_type": "code",
   "execution_count": 37,
   "metadata": {},
   "outputs": [],
   "source": [
    "# Şimdi TFIDF\n",
    "parameters_of_svc_tfidf = [ \n",
    "    {\n",
    "        'LinearSVC__C': [0.01, 0.1, 1, 10, 100], \n",
    "        'tfidfvectorizer__min_df': [1,3,5], \n",
    "        'tfidfvectorizer__stop_words': [stop],\n",
    "        'tfidfvectorizer__ngram_range': [(1, 1), (1, 2), (1, 3), (2, 3)]\n",
    "    } \n",
    "]\n",
    "\n",
    "parameters_of_general_tfidf = [ \n",
    "    {\n",
    "        'tfidfvectorizer__min_df': [1,3,5], \n",
    "        'tfidfvectorizer__stop_words': [stop],\n",
    "        'tfidfvectorizer__ngram_range': [(1, 1), (1, 2), (1, 3), (2, 3)]\n",
    "    }\n",
    "]"
   ]
  },
  {
   "cell_type": "code",
   "execution_count": 38,
   "metadata": {},
   "outputs": [
    {
     "data": {
      "text/plain": [
       "(2250,)"
      ]
     },
     "execution_count": 38,
     "metadata": {},
     "output_type": "execute_result"
    }
   ],
   "source": [
    "x_train.shape"
   ]
  },
  {
   "cell_type": "code",
   "execution_count": 39,
   "metadata": {},
   "outputs": [
    {
     "data": {
      "text/plain": [
       "(2250,)"
      ]
     },
     "execution_count": 39,
     "metadata": {},
     "output_type": "execute_result"
    }
   ],
   "source": [
    "y_train.shape"
   ]
  },
  {
   "cell_type": "markdown",
   "metadata": {},
   "source": [
    "Şimdi modellerimizi çalıştırmaya başlayalım. İlk olarak CountVectorizer içeren modeller."
   ]
  },
  {
   "cell_type": "code",
   "execution_count": 40,
   "metadata": {},
   "outputs": [
    {
     "name": "stdout",
     "output_type": "stream",
     "text": [
      "Model ismi: LinearSVC\n",
      "En iyi cross-validation score: 89.24\n",
      "En iyi parametreler:  {'LinearSVC__C': 1, 'countvectorizer__min_df': 1, 'countvectorizer__ngram_range': (1, 2), 'countvectorizer__stop_words': ['acaba', 'ama', 'aslında', 'az', 'bazı', 'belki', 'biri', 'birkaç', 'birşey', 'biz', 'bu', 'çok', 'çünkü', 'da', 'daha', 'de', 'defa', 'diye', 'eğer', 'en', 'gibi', 'hem', 'hep', 'hepsi', 'her', 'hiç', 'için', 'ile', 'ise', 'kez', 'ki', 'kim', 'mı', 'mu', 'mü', 'nasıl', 'ne', 'neden', 'nerde', 'nerede', 'nereye', 'niçin', 'niye', 'o', 'sanki', 'şey', 'siz', 'şu', 'tüm', 've', 'veya', 'ya', 'yani']}\n",
      "[[1118    0]\n",
      " [   0 1132]]\n",
      "Test score: 89.21%\n",
      "--------------------------\n",
      "Model ismi: Multinomial NB\n",
      "En iyi cross-validation score: 87.20\n",
      "En iyi parametreler:  {'countvectorizer__min_df': 1, 'countvectorizer__ngram_range': (1, 1), 'countvectorizer__stop_words': None}\n",
      "[[1102   16]\n",
      " [   3 1129]]\n",
      "Test score: 86.42%\n",
      "--------------------------\n",
      "Model ismi: Decision Tree\n",
      "En iyi cross-validation score: 85.11\n",
      "En iyi parametreler:  {'countvectorizer__min_df': 1, 'countvectorizer__ngram_range': (1, 2), 'countvectorizer__stop_words': ['acaba', 'ama', 'aslında', 'az', 'bazı', 'belki', 'biri', 'birkaç', 'birşey', 'biz', 'bu', 'çok', 'çünkü', 'da', 'daha', 'de', 'defa', 'diye', 'eğer', 'en', 'gibi', 'hem', 'hep', 'hepsi', 'her', 'hiç', 'için', 'ile', 'ise', 'kez', 'ki', 'kim', 'mı', 'mu', 'mü', 'nasıl', 'ne', 'neden', 'nerde', 'nerede', 'nereye', 'niçin', 'niye', 'o', 'sanki', 'şey', 'siz', 'şu', 'tüm', 've', 'veya', 'ya', 'yani']}\n",
      "[[1118    0]\n",
      " [   0 1132]]\n",
      "Test score: 88.42%\n",
      "--------------------------\n",
      "Model ismi: Random Forest\n",
      "En iyi cross-validation score: 85.96\n",
      "En iyi parametreler:  {'countvectorizer__min_df': 3, 'countvectorizer__ngram_range': (1, 3), 'countvectorizer__stop_words': ['acaba', 'ama', 'aslında', 'az', 'bazı', 'belki', 'biri', 'birkaç', 'birşey', 'biz', 'bu', 'çok', 'çünkü', 'da', 'daha', 'de', 'defa', 'diye', 'eğer', 'en', 'gibi', 'hem', 'hep', 'hepsi', 'her', 'hiç', 'için', 'ile', 'ise', 'kez', 'ki', 'kim', 'mı', 'mu', 'mü', 'nasıl', 'ne', 'neden', 'nerde', 'nerede', 'nereye', 'niçin', 'niye', 'o', 'sanki', 'şey', 'siz', 'şu', 'tüm', 've', 'veya', 'ya', 'yani']}\n",
      "[[1117    1]\n",
      " [  13 1119]]\n",
      "Test score: 87.48%\n",
      "--------------------------\n"
     ]
    }
   ],
   "source": [
    "for models, parameters, name in zip([LinearSVC_count, Naive_count, Decision_count, RandomForest_count],\n",
    "                                    [parameters_of_svc_count, parameters_general_count, parameters_general_count, parameters_general_count],\n",
    "                                    [\"LinearSVC\",\"Multinomial NB\",\"Decision Tree\",\"Random Forest\"]):\n",
    "\n",
    "    grid = GridSearchCV(models, parameters, cv=5)\n",
    "    grid.fit(x_train, y_train)\n",
    "    print(\"Model ismi: \"+ name)\n",
    "    print(\"En iyi cross-validation score: {:.2f}\".format(grid.best_score_ * 100))\n",
    "    print(\"En iyi parametreler: \", grid.best_params_)\n",
    "    \n",
    "    y_train_pred = grid.predict(x_train)\n",
    "    print(confusion_matrix(y_train, y_train_pred))\n",
    "\n",
    "    \n",
    "    final_model = grid.best_estimator_\n",
    "    final_test_prediction = final_model.score(x_test, y_test)\n",
    "    print(\"Test score: {:.2f}%\".format(final_test_prediction * 100))    \n",
    "    print(\"--------------------------\")"
   ]
  },
  {
   "cell_type": "markdown",
   "metadata": {},
   "source": [
    "Şimdi de TFIDF vectorizer'ına göre sonuç alalım."
   ]
  },
  {
   "cell_type": "code",
   "execution_count": 43,
   "metadata": {},
   "outputs": [
    {
     "name": "stdout",
     "output_type": "stream",
     "text": [
      "Model ismi: LinearSVC\n",
      "En iyi cross-validation score: 88.44\n",
      "En iyi parametreler:  {'LinearSVC__C': 10, 'tfidfvectorizer__min_df': 1, 'tfidfvectorizer__ngram_range': (1, 2), 'tfidfvectorizer__stop_words': ['acaba', 'ama', 'aslında', 'az', 'bazı', 'belki', 'biri', 'birkaç', 'birşey', 'biz', 'bu', 'çok', 'çünkü', 'da', 'daha', 'de', 'defa', 'diye', 'eğer', 'en', 'gibi', 'hem', 'hep', 'hepsi', 'her', 'hiç', 'için', 'ile', 'ise', 'kez', 'ki', 'kim', 'mı', 'mu', 'mü', 'nasıl', 'ne', 'neden', 'nerde', 'nerede', 'nereye', 'niçin', 'niye', 'o', 'sanki', 'şey', 'siz', 'şu', 'tüm', 've', 'veya', 'ya', 'yani']}\n",
      "[[1118    0]\n",
      " [   0 1132]]\n",
      "Test score: 90.15%\n",
      "--------------------------\n",
      "Model ismi: Multinomial Naive Bayes\n",
      "En iyi cross-validation score: 86.18\n",
      "En iyi parametreler:  {'tfidfvectorizer__min_df': 1, 'tfidfvectorizer__ngram_range': (1, 3), 'tfidfvectorizer__stop_words': ['acaba', 'ama', 'aslında', 'az', 'bazı', 'belki', 'biri', 'birkaç', 'birşey', 'biz', 'bu', 'çok', 'çünkü', 'da', 'daha', 'de', 'defa', 'diye', 'eğer', 'en', 'gibi', 'hem', 'hep', 'hepsi', 'her', 'hiç', 'için', 'ile', 'ise', 'kez', 'ki', 'kim', 'mı', 'mu', 'mü', 'nasıl', 'ne', 'neden', 'nerde', 'nerede', 'nereye', 'niçin', 'niye', 'o', 'sanki', 'şey', 'siz', 'şu', 'tüm', 've', 'veya', 'ya', 'yani']}\n",
      "[[1118    0]\n",
      " [   0 1132]]\n",
      "Test score: 86.95%\n",
      "--------------------------\n",
      "Model ismi: Decision Tree\n",
      "En iyi cross-validation score: 83.47\n",
      "En iyi parametreler:  {'tfidfvectorizer__min_df': 1, 'tfidfvectorizer__ngram_range': (1, 3), 'tfidfvectorizer__stop_words': ['acaba', 'ama', 'aslında', 'az', 'bazı', 'belki', 'biri', 'birkaç', 'birşey', 'biz', 'bu', 'çok', 'çünkü', 'da', 'daha', 'de', 'defa', 'diye', 'eğer', 'en', 'gibi', 'hem', 'hep', 'hepsi', 'her', 'hiç', 'için', 'ile', 'ise', 'kez', 'ki', 'kim', 'mı', 'mu', 'mü', 'nasıl', 'ne', 'neden', 'nerde', 'nerede', 'nereye', 'niçin', 'niye', 'o', 'sanki', 'şey', 'siz', 'şu', 'tüm', 've', 'veya', 'ya', 'yani']}\n",
      "[[1118    0]\n",
      " [   0 1132]]\n",
      "Test score: 84.55%\n",
      "--------------------------\n",
      "Model ismi: Random Forest\n",
      "En iyi cross-validation score: 86.04\n",
      "En iyi parametreler:  {'tfidfvectorizer__min_df': 3, 'tfidfvectorizer__ngram_range': (1, 2), 'tfidfvectorizer__stop_words': ['acaba', 'ama', 'aslında', 'az', 'bazı', 'belki', 'biri', 'birkaç', 'birşey', 'biz', 'bu', 'çok', 'çünkü', 'da', 'daha', 'de', 'defa', 'diye', 'eğer', 'en', 'gibi', 'hem', 'hep', 'hepsi', 'her', 'hiç', 'için', 'ile', 'ise', 'kez', 'ki', 'kim', 'mı', 'mu', 'mü', 'nasıl', 'ne', 'neden', 'nerde', 'nerede', 'nereye', 'niçin', 'niye', 'o', 'sanki', 'şey', 'siz', 'şu', 'tüm', 've', 'veya', 'ya', 'yani']}\n",
      "[[1116    2]\n",
      " [  15 1117]]\n",
      "Test score: 86.82%\n",
      "--------------------------\n"
     ]
    }
   ],
   "source": [
    "for models, parameters, name in zip([LinearSVC_tfidf, Naive_tfidf, Decision_tfidf, RandomForest_tfidf],\n",
    "                                    [parameters_of_svc_tfidf, parameters_of_general_tfidf, parameters_of_general_tfidf, parameters_of_general_tfidf],\n",
    "                                    [\"LinearSVC\",\"Multinomial Naive Bayes\",\"Decision Tree\",\"Random Forest\"]):\n",
    "\n",
    "    grid = GridSearchCV(models, parameters, cv=5)\n",
    "    grid.fit(x_train, y_train)\n",
    "    print(\"Model ismi: \"+ name)\n",
    "    print(\"En iyi cross-validation score: {:.2f}\".format(grid.best_score_ * 100))\n",
    "    print(\"En iyi parametreler: \", grid.best_params_)\n",
    "    \n",
    "    y_train_pred = grid.predict(x_train)\n",
    "    print(confusion_matrix(y_train, y_train_pred))\n",
    "    \n",
    "    final_model = grid.best_estimator_\n",
    "    final_test_prediction = final_model.score(x_test, y_test)\n",
    "    print(\"Test score: {:.2f}%\".format(final_test_prediction * 100))    \n",
    "    print(\"--------------------------\")"
   ]
  },
  {
   "cell_type": "markdown",
   "metadata": {},
   "source": [
    "En iyi test score'u veren modelimiz TFIDF vectorizer'ı ile LinearSVC modeli oldu. En iyi parametreler: C=10, min_df=1, stop_words=word, ngram_range=(1,2). Score: %90.15"
   ]
  },
  {
   "cell_type": "markdown",
   "metadata": {},
   "source": [
    "En iyi sonuç aldığımız modeli parametreleri ve vectorizer'ıyla birlikte yeni bir pipeline yapısında tutalım. Yeni gelen değerler direk bu yeni yarattığımız yapıya gidecek ve orada kontrol ettirilecek."
   ]
  },
  {
   "cell_type": "markdown",
   "metadata": {},
   "source": [
    "En iyi sonuç aldığımız modelimizin pipeline yapısı:"
   ]
  },
  {
   "cell_type": "code",
   "execution_count": 44,
   "metadata": {},
   "outputs": [],
   "source": [
    "# Parametrelerimizi de yapının içerisine ekliyoruz.\n",
    "best_pipeline = Pipeline([\n",
    "    ('tfidfvectorizer', TfidfVectorizer(min_df=1,stop_words=stop,ngram_range=(1,2))),\n",
    "    ('LinearSVC', LinearSVC(C=10,max_iter=1000))\n",
    "])"
   ]
  },
  {
   "cell_type": "code",
   "execution_count": 45,
   "metadata": {},
   "outputs": [
    {
     "data": {
      "text/plain": [
       "Pipeline(memory=None,\n",
       "     steps=[('tfidfvectorizer', TfidfVectorizer(analyzer='word', binary=False, decode_error='strict',\n",
       "        dtype=<class 'numpy.int64'>, encoding='utf-8', input='content',\n",
       "        lowercase=True, max_df=1.0, max_features=None, min_df=1,\n",
       "        ngram_range=(1, 2), norm='l2', preprocessor=None, smooth_i...ax_iter=1000,\n",
       "     multi_class='ovr', penalty='l2', random_state=None, tol=0.0001,\n",
       "     verbose=0))])"
      ]
     },
     "execution_count": 45,
     "metadata": {},
     "output_type": "execute_result"
    }
   ],
   "source": [
    "best_pipeline.fit(x_train,y_train)"
   ]
  },
  {
   "cell_type": "code",
   "execution_count": 46,
   "metadata": {},
   "outputs": [
    {
     "data": {
      "text/plain": [
       "[('tfidfvectorizer',\n",
       "  TfidfVectorizer(analyzer='word', binary=False, decode_error='strict',\n",
       "          dtype=<class 'numpy.int64'>, encoding='utf-8', input='content',\n",
       "          lowercase=True, max_df=1.0, max_features=None, min_df=1,\n",
       "          ngram_range=(1, 2), norm='l2', preprocessor=None, smooth_idf=True,\n",
       "          stop_words=['acaba', 'ama', 'aslında', 'az', 'bazı', 'belki', 'biri', 'birkaç', 'birşey', 'biz', 'bu', 'çok', 'çünkü', 'da', 'daha', 'de', 'defa', 'diye', 'eğer', 'en', 'gibi', 'hem', 'hep', 'hepsi', 'her', 'hiç', 'için', 'ile', 'ise', 'kez', 'ki', 'kim', 'mı', 'mu', 'mü', 'nasıl', 'ne', 'neden', 'nerde', 'nerede', 'nereye', 'niçin', 'niye', 'o', 'sanki', 'şey', 'siz', 'şu', 'tüm', 've', 'veya', 'ya', 'yani'],\n",
       "          strip_accents=None, sublinear_tf=False,\n",
       "          token_pattern='(?u)\\\\b\\\\w\\\\w+\\\\b', tokenizer=None, use_idf=True,\n",
       "          vocabulary=None)),\n",
       " ('LinearSVC',\n",
       "  LinearSVC(C=10, class_weight=None, dual=True, fit_intercept=True,\n",
       "       intercept_scaling=1, loss='squared_hinge', max_iter=1000,\n",
       "       multi_class='ovr', penalty='l2', random_state=None, tol=0.0001,\n",
       "       verbose=0))]"
      ]
     },
     "execution_count": 46,
     "metadata": {},
     "output_type": "execute_result"
    }
   ],
   "source": [
    "best_pipeline.steps"
   ]
  },
  {
   "cell_type": "code",
   "execution_count": 47,
   "metadata": {},
   "outputs": [
    {
     "name": "stdout",
     "output_type": "stream",
     "text": [
      "Final test score: 0.9014647137150466\n",
      "Confusion matrix\n",
      " [[335  45]\n",
      " [ 29 342]]\n"
     ]
    }
   ],
   "source": [
    "final_test_prediction = best_pipeline.score(x_test,y_test)\n",
    "print(\"Final test score:\",final_test_prediction)\n",
    "\n",
    "y_test_pred = best_pipeline.predict(x_test)\n",
    "print(\"Confusion matrix\\n\",confusion_matrix(y_test,y_test_pred))"
   ]
  },
  {
   "cell_type": "markdown",
   "metadata": {},
   "source": [
    "Bu modelimizi bir dosya içerisine save etmemiz gerekiyor şu an. Dosyanın adını en 'latest_model' yapacağım."
   ]
  },
  {
   "cell_type": "code",
   "execution_count": 48,
   "metadata": {},
   "outputs": [
    {
     "data": {
      "text/plain": [
       "['latest_model.pkl']"
      ]
     },
     "execution_count": 48,
     "metadata": {},
     "output_type": "execute_result"
    }
   ],
   "source": [
    "from sklearn.externals import joblib\n",
    "\n",
    "joblib.dump(best_pipeline,\"latest_model.pkl\")"
   ]
  },
  {
   "cell_type": "markdown",
   "metadata": {},
   "source": [
    "Dosyayı load ederek deneyelim."
   ]
  },
  {
   "cell_type": "code",
   "execution_count": 49,
   "metadata": {},
   "outputs": [
    {
     "name": "stdout",
     "output_type": "stream",
     "text": [
      "Final Test Score: 0.9014647137150466\n"
     ]
    }
   ],
   "source": [
    "best_model = joblib.load(\"latest_model.pkl\")\n",
    "final_test_prediction = best_model.score(x_test,y_test)\n",
    "print(\"Final Test Score:\",final_test_prediction)"
   ]
  },
  {
   "cell_type": "markdown",
   "metadata": {},
   "source": [
    "Gördüğümüz gibi; dosyamızın içinde bulunan final score'u önümüze geldi!"
   ]
  },
  {
   "cell_type": "markdown",
   "metadata": {},
   "source": [
    "Şimdi kendi yazdığımız bir kaç örnekle classification yapabiliyor muyuz test edelim!"
   ]
  },
  {
   "cell_type": "code",
   "execution_count": 56,
   "metadata": {},
   "outputs": [
    {
     "data": {
      "text/plain": [
       "array([0, 1, 1, 0, 1, 0], dtype=int64)"
      ]
     },
     "execution_count": 56,
     "metadata": {},
     "output_type": "execute_result"
    }
   ],
   "source": [
    "best_model.predict(['gayet iyi','salak','bu ne amk','güzelsin','siktir','hava çok güzel'])"
   ]
  },
  {
   "cell_type": "markdown",
   "metadata": {},
   "source": [
    "Gördüğünüz gibi hakaret içeren ifadeler 1 nolu (hakaret içeren ifadeler) hakaret içermeyen ifadeler 0 nolu (hakaret edilmeyen) class'ımıza classify yapılmış oldu. Modelimiz gayet sağlıklı çalışıyor."
   ]
  }
 ],
 "metadata": {
  "kernelspec": {
   "display_name": "Python 3",
   "language": "python",
   "name": "python3"
  },
  "language_info": {
   "codemirror_mode": {
    "name": "ipython",
    "version": 3
   },
   "file_extension": ".py",
   "mimetype": "text/x-python",
   "name": "python",
   "nbconvert_exporter": "python",
   "pygments_lexer": "ipython3",
   "version": "3.6.5"
  }
 },
 "nbformat": 4,
 "nbformat_minor": 2
}
